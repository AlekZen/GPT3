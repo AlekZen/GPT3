{
 "cells": [
  {
   "cell_type": "code",
   "execution_count": 15,
   "metadata": {},
   "outputs": [],
   "source": [
    "import openai"
   ]
  },
  {
   "cell_type": "code",
   "execution_count": 16,
   "metadata": {},
   "outputs": [],
   "source": [
    "openai.api_key = \"\" # nunca dejen sus credenciales dentro del código! pueden hacerlo una variable de ambiente\n"
   ]
  },
  {
   "cell_type": "code",
   "execution_count": 17,
   "metadata": {},
   "outputs": [],
   "source": [
    "def enviar_prompt(prompt, engine=\"text-davinci-002\", temp=0.5, max_tokens=100, top_p=.1, frequency_penalty=0, presence_penalty=0):\n",
    "    respuesta = openai.Completion.create(\n",
    "                                            engine=engine,\n",
    "                                            prompt=prompt,\n",
    "                                            temperature=temp,\n",
    "                                            max_tokens=max_tokens,\n",
    "                                            top_p=top_p,\n",
    "                                            frequency_penalty=frequency_penalty,\n",
    "                                            presence_penalty=presence_penalty\n",
    "                                            )\n",
    "    return respuesta['choices'][0]['text']"
   ]
  },
  {
   "cell_type": "code",
   "execution_count": 18,
   "metadata": {},
   "outputs": [],
   "source": [
    "respuesta = enviar_prompt(\"Que es mejor una LSTM o RNN y porque? responde en español\")"
   ]
  },
  {
   "cell_type": "code",
   "execution_count": 19,
   "metadata": {},
   "outputs": [
    {
     "data": {
      "text/plain": [
       "'\\n\\nUna LSTM es un tipo de red neuronal recurrente que tiene una memoria a largo plazo, lo que la hace ideal para modelar datos secuenciales. Una RNN es un tipo de red neuronal recurrente que tiene una memoria a corto plazo, lo que la hace ideal para modelar datos no secuenciales.'"
      ]
     },
     "execution_count": 19,
     "metadata": {},
     "output_type": "execute_result"
    }
   ],
   "source": [
    "respuesta"
   ]
  },
  {
   "cell_type": "markdown",
   "metadata": {},
   "source": [
    "# Generar imagenes\n",
    "El API de openai tambien te permite generar imagenes utilizando Dall-e2"
   ]
  },
  {
   "cell_type": "code",
   "execution_count": 20,
   "metadata": {},
   "outputs": [],
   "source": [
    "def generar_imagen(descripcion):\n",
    "    response = openai.Image.create(\n",
    "                                    prompt=descripcion,\n",
    "                                    n=1,\n",
    "                                    size=\"1024x1024\"\n",
    "                                    )\n",
    "    image_url = response['data'][0]['url']  \n",
    "    print(image_url)"
   ]
  },
  {
   "cell_type": "code",
   "execution_count": 22,
   "metadata": {},
   "outputs": [
    {
     "name": "stdout",
     "output_type": "stream",
     "text": [
      "https://oaidalleapiprodscus.blob.core.windows.net/private/org-gyeDbKPixhOvOMTsS6et1urI/user-3YlOo2V7K0E926aach1WsC7c/img-6xLKiXGrnXYPMCEGcJ3W5Dx0.png?st=2023-02-17T18%3A42%3A09Z&se=2023-02-17T20%3A42%3A09Z&sp=r&sv=2021-08-06&sr=b&rscd=inline&rsct=image/png&skoid=6aaadede-4fb3-4698-a8f6-684d7786b067&sktid=a48cca56-e6da-484e-a814-9c849652bcb3&skt=2023-02-17T19%3A33%3A44Z&ske=2023-02-18T19%3A33%3A44Z&sks=b&skv=2021-08-06&sig=1YLKgGGnoadtaJcW69sihQGkV0//uRl6MAQ6OyIHZww%3D\n"
     ]
    }
   ],
   "source": [
    "url = generar_imagen(\"Un dragon con un traje similar al de la pelicula de tron\")"
   ]
  },
  {
   "cell_type": "code",
   "execution_count": 23,
   "metadata": {},
   "outputs": [],
   "source": [
    "url"
   ]
  },
  {
   "cell_type": "code",
   "execution_count": null,
   "metadata": {},
   "outputs": [],
   "source": []
  }
 ],
 "metadata": {
  "kernelspec": {
   "display_name": "Python 3.8.16 ('gpt3')",
   "language": "python",
   "name": "python3"
  },
  "language_info": {
   "codemirror_mode": {
    "name": "ipython",
    "version": 3
   },
   "file_extension": ".py",
   "mimetype": "text/x-python",
   "name": "python",
   "nbconvert_exporter": "python",
   "pygments_lexer": "ipython3",
   "version": "3.8.16"
  },
  "orig_nbformat": 4,
  "vscode": {
   "interpreter": {
    "hash": "e3e99415c7ce2cb9b8857283077fa90c1d7ffec737ddc9f365b1225d7f13a404"
   }
  }
 },
 "nbformat": 4,
 "nbformat_minor": 2
}
